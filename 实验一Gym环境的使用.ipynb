{
 "cells": [
  {
   "cell_type": "markdown",
   "metadata": {},
   "source": [
    "# <center>第二讲&emsp;Gym环境的使用</center>\n",
    "&emsp;&emsp;深度强化学习技术将具有感知能力的深度学习和具有决策能力的强化学习相结合，以形成直接从输入原始数据到输出动作控制的完整智能系统。因此对于从事深度强化学习研究的相关工作人员而言，选择一个好的工具势必会事半功倍。PyTorch是Facebook公司在深度学习框架Torch基础上，使用Python重写的一个全新的框架。它不仅继承了NumPy的众多优点，还支持GPUs计算。另外PyTorch还拥有丰富的API，可以快速完成深度神经网络模型的搭建和训练。因此，PyTorch无疑是目前深度强化学习的最好选择。本章将讲解PyTorch与其他工具相比所具有的优点以及使用PyTorch所必须的环境安装及使用。为了更方便快捷地构建、模拟、渲染和实验强化学习算法，本书使用了Gym等环境平台，对于这些平台，本章也阐述了安装及常用的使用方法。"
   ]
  },
  {
   "cell_type": "markdown",
   "metadata": {},
   "source": [
    "# 1.1 Gym环境\n",
    "&emsp;&emsp;前面我们介绍了gym的安装，使用下面代码可以简单的使用gym环境。<br>\n",
    "&emsp;&emsp;import gym<br>\n",
    "&emsp;&emsp;env = gym.make('MountainCar-v0')<br>\n",
    "&emsp;&emsp;env.reset()<br>\n",
    "&emsp;&emsp;env.render()<br>\n",
    "&emsp;&emsp;env.close()<br>\n",
    "&emsp;&emsp;如果想看看别的环境是什么样子的，可以将MountainCar-v0替换成CartPole-v0, Pendulum-v0，Acrobot-v1等，这些环境都来自Env基类。<br>\n"
   ]
  },
  {
   "cell_type": "code",
   "execution_count": 1,
   "metadata": {},
   "outputs": [
    {
     "name": "stderr",
     "output_type": "stream",
     "text": [
      "Exception ignored in: <function Viewer.__del__ at 0x000001E1F7F864C8>\n",
      "Traceback (most recent call last):\n",
      "  File \"c:\\users\\quanl\\gym\\gym\\envs\\classic_control\\rendering.py\", line 165, in __del__\n",
      "    self.close()\n",
      "  File \"c:\\users\\quanl\\gym\\gym\\envs\\classic_control\\rendering.py\", line 83, in close\n",
      "    self.window.close()\n",
      "  File \"c:\\users\\quanl\\anaconda3\\envs\\rl1\\lib\\site-packages\\pyglet\\window\\win32\\__init__.py\", line 299, in close\n",
      "    super(Win32Window, self).close()\n",
      "  File \"c:\\users\\quanl\\anaconda3\\envs\\rl1\\lib\\site-packages\\pyglet\\window\\__init__.py\", line 823, in close\n",
      "    app.windows.remove(self)\n",
      "  File \"c:\\users\\quanl\\anaconda3\\envs\\rl1\\lib\\_weakrefset.py\", line 109, in remove\n",
      "    self.data.remove(ref(item))\n",
      "KeyError: <weakref at 0x000001E1F80D8E58; to 'Win32Window' at 0x000001E1EF96AEC8>\n",
      "Exception ignored in: <function Viewer.__del__ at 0x000001E1F7F864C8>\n",
      "Traceback (most recent call last):\n",
      "  File \"c:\\users\\quanl\\gym\\gym\\envs\\classic_control\\rendering.py\", line 165, in __del__\n",
      "    self.close()\n",
      "  File \"c:\\users\\quanl\\gym\\gym\\envs\\classic_control\\rendering.py\", line 83, in close\n",
      "    self.window.close()\n",
      "  File \"c:\\users\\quanl\\anaconda3\\envs\\rl1\\lib\\site-packages\\pyglet\\window\\win32\\__init__.py\", line 299, in close\n",
      "    super(Win32Window, self).close()\n",
      "  File \"c:\\users\\quanl\\anaconda3\\envs\\rl1\\lib\\site-packages\\pyglet\\window\\__init__.py\", line 823, in close\n",
      "    app.windows.remove(self)\n",
      "  File \"c:\\users\\quanl\\anaconda3\\envs\\rl1\\lib\\_weakrefset.py\", line 109, in remove\n",
      "    self.data.remove(ref(item))\n",
      "KeyError: <weakref at 0x000001E1F80E3E08; to 'Win32Window' at 0x000001E1F80D43C8>\n"
     ]
    }
   ],
   "source": [
    "import gym\n",
    "import sys\n",
    "env = gym.make('MountainCar-v0')\n",
    "env.reset()\n",
    "for _ in range(100):\n",
    "    env.render()\n",
    "env = gym.make('CartPole-v0')\n",
    "env.reset()\n",
    "for _ in range(100):\n",
    "    env.render()\n",
    "env = gym.make('Pendulum-v0')\n",
    "env.reset()\n",
    "for _ in range(100):\n",
    "    env.render()\n",
    "env = gym.make('Acrobot-v1')\n",
    "env.reset()\n",
    "for _ in range(100):\n",
    "    env.render()\n",
    "\n",
    "env.close()"
   ]
  },
  {
   "cell_type": "markdown",
   "metadata": {},
   "source": [
    "&emsp;&emsp;Mountain-Car小车登山案例详解<br>\n",
    "&emsp;&emsp;环境描述：小车的轨迹是一维的，定位在两山之间，目标是爬上右边山顶的小黄旗处。但小车的发动机不足以一次性攀登到山顶，采取的方式是小车来回摆动增加动量。<br>\n",
    "&emsp;&emsp;动作：包括3个动作，分别是向前、不动、向后。<br>\n",
    "&emsp;&emsp;状态：是2维的，分别是位置position和速度velocity。position的取值范围为[-1.2, 0.6]，最左边坡顶为-1.2，小黄旗位置为0.5。<br>\n",
    "&emsp;&emsp;奖励：每次移动都会得到-1的奖励，直到小车开到黄旗位置。<br>\n",
    "&emsp;&emsp;针对Mountain-Car的Gym环境，程序如下所示：<br>\n",
    "<br>\n"
   ]
  },
  {
   "cell_type": "code",
   "execution_count": 1,
   "metadata": {},
   "outputs": [
    {
     "name": "stdout",
     "output_type": "stream",
     "text": [
      "Episode finished after 0 timesteps\n",
      "Episode finished after 1 timesteps\n"
     ]
    }
   ],
   "source": [
    "import gym                                    # 引入环境   \n",
    "env = gym.make('MountainCar-v0')              # 创建MountainCar-v0环境。\n",
    "for episode in range(2):\n",
    "    env.reset()                               # 重置智能体状态<br>\n",
    "    print(\"Episode finished after {} timesteps\".format(episode))\n",
    "    for _ in range(500):                       # 进行1000次迭代\n",
    "        env.render()                          # 渲染\n",
    "        observation, reward, down, info = env.step(env.action_space.sample())   # 执行动作。env.action_space.sample()是随机动作选择\n",
    "env.close()                                   # 关闭环境"
   ]
  },
  {
   "cell_type": "markdown",
   "metadata": {},
   "source": [
    "&emsp;&emsp;运行代码显示如图1所示的小车爬山过程：<br>\n",
    "<center><img src='./image/图2.18.png' width='275'></center>\n",
    "<center>图1&ensp; Gym环境下的小车爬山图</center><br>\n",
    "&emsp;&emsp;对部分行代码进行说明：<br>\n",
    "&emsp;&emsp;第1行：导入Gym环境。Gym库的核心是使用Env对象作为统一的环境接口，所有Env对象或是用户自定义的环境对象，包括类成员函数seed( )、step( )、reset( )和render( )。<br>\n",
    "&emsp;&emsp;第2行：创建MountainCar环境。make( )的参数用于设置待创建的环境名称，在Gym中有MountainCar，Acrobot，Pendulum，CartPole等4个自带的环境。其文件均存放于：自定义Gym目录/envs/classic_control文件夹下，此外用户也可以自定义环境。<br>\n",
    "&emsp;&emsp;第3行：设置情节数目。在训练参数时，Agent需要执行多个情节，每次到达终止状态时，便完成了一个情节，并开启下个情节。<br>\n",
    "&emsp;&emsp;第4行：在开始或一个情节完成时，重置Agent状态。<br>\n",
    "&emsp;&emsp;第6行：设置在一个情节中执行的步数。<br>\n",
    "&emsp;&emsp;第7、8行：小车随机选择动作执行，并渲染图像。 <br>\n",
    "&emsp;&emsp;下面以MountainCar环境类为例，阐述Gym环境中常见的3个函数。<br>\n",
    "&emsp;&emsp;（1）reset()函数<br>\n",
    "&emsp;&emsp;在强化学习中，训练参数时，Agent会执行多个情节，积累经验。然后在经验中选取回报高的动作。当Agent达到终止状态时，称之为一个情节或者一条轨迹。Agent到达终止状态，准备开启下个情节时，Agent将需要重新回到初始状态，初始化Agent的状态和其他一些必要的初始化操作。这个功能由环境类的reset()函数实现。<br>\n",
    "&emsp;&emsp;（2）render()函数<br>\n",
    "&emsp;&emsp;任意一个模拟仿真环境，都存在物理引擎和图像引擎两部分。物理引擎模拟环境中的物理规律，图像引擎用来直观显示环境中的图像。对于强化学习，可以不用图像引擎，只是利用物理引擎训练参数。但是为了直观的显示当前Agent在环境中的具体状态以及方便调试代码，图像引擎是必不可少的。而render()函数在Gym环境中就起到图像引擎的作用。<br>\n",
    "&emsp;&emsp;（3）step()函数<br>\n",
    "&emsp;&emsp;step()函数在强化学习平台中极为重要，在模拟仿真环境中起到物理引擎的作用。需要输入的参数是当前的状态，待执行的动作。返回的是下一步的状态、立即奖赏以及是否终止。它体现了Agent与环境交互的整个过程，包含了与环境交互的所有信息。<br>"
   ]
  },
  {
   "cell_type": "markdown",
   "metadata": {},
   "source": [
    "&emsp;&emsp;（1）空间<br>\n",
    "&emsp;&emsp;包括:动作空间：action_space和状态空间：observation_space。<br>\n",
    "&emsp;&emsp;&emsp;&emsp;动作有3个动作：向前、向后和不动；<br>\n",
    "&emsp;&emsp;&emsp;&emsp;状态为2维，位置position和速度velocity，[position,velocity]。position的值在最低点处为-0.5左右，最左边的位置为-1.2，最右边的位置为0.6。<br>"
   ]
  },
  {
   "cell_type": "code",
   "execution_count": 2,
   "metadata": {},
   "outputs": [
    {
     "name": "stdout",
     "output_type": "stream",
     "text": [
      "Discrete(3)\n",
      "Box(-1.2000000476837158, 0.6000000238418579, (2,), float32)\n"
     ]
    }
   ],
   "source": [
    "import gym\n",
    "env = gym.make('MountainCar-v0')\n",
    "print(env.action_space)\n",
    "print(env.observation_space)"
   ]
  },
  {
   "cell_type": "code",
   "execution_count": 15,
   "metadata": {},
   "outputs": [
    {
     "name": "stdout",
     "output_type": "stream",
     "text": [
      "[0.6  0.07]\n",
      "[-1.2  -0.07]\n"
     ]
    }
   ],
   "source": [
    "print(env.observation_space.high)\n",
    "#> array([ 2.4       ,         inf,  0.20943951,         inf])\n",
    "print(env.observation_space.low)\n",
    "#> array([-2.4       ,        -inf, -0.20943951,        -inf])"
   ]
  },
  {
   "cell_type": "markdown",
   "metadata": {},
   "source": [
    "# 1.2 关闭Gym环境窗口\n",
    "&emsp;&emsp;程序在运行过程中，当使用Ctrl+C或点击ipytion右上角的“停止”按钮时，会弹出Windows的调试窗口，然后ipython也会崩掉。具体解决办法是：在env.render()前添加一个中断，定义一个函数处理这个信号。"
   ]
  },
  {
   "cell_type": "code",
   "execution_count": 4,
   "metadata": {},
   "outputs": [
    {
     "ename": "SystemExit",
     "evalue": "0",
     "output_type": "error",
     "traceback": [
      "An exception has occurred, use %tb to see the full traceback.\n",
      "\u001b[1;31mSystemExit\u001b[0m\u001b[1;31m:\u001b[0m 0\n"
     ]
    }
   ],
   "source": [
    "import gym\n",
    "\n",
    "import signal\n",
    "import sys\n",
    "\n",
    "def CtrlCHandler(signum, frame):\n",
    "    env.close()\n",
    "    sys.exit(0)\n",
    "\n",
    "# box2d任务\n",
    "#env = gym.make('BipedalWalker-v3')\n",
    "\n",
    "#atari经典任务\n",
    "env = gym.make('Asterix-ram-v0')\n",
    "\n",
    "# 经典任务\n",
    "# env = gym.make('Pendulum-v0')\n",
    " \n",
    "for i_episode in range(100):\n",
    "    env.reset()\n",
    "    for t in range(100):\n",
    "        signal.signal(signal.SIGINT, CtrlCHandler)\n",
    "        env.render()\n",
    "        action = env.action_space.sample()\n",
    "        observation, reward, done, info = env.step(action)\n",
    "        if done:\n",
    "            print(\"Episode finished after {} timesteps\".format(t+1))\n",
    "            break\n",
    "quit()"
   ]
  },
  {
   "cell_type": "code",
   "execution_count": 4,
   "metadata": {},
   "outputs": [
    {
     "name": "stdout",
     "output_type": "stream",
     "text": [
      "dict_values([EnvSpec(Copy-v0), EnvSpec(RepeatCopy-v0), EnvSpec(ReversedAddition-v0), EnvSpec(ReversedAddition3-v0), EnvSpec(DuplicatedInput-v0), EnvSpec(Reverse-v0), EnvSpec(CartPole-v0), EnvSpec(CartPole-v1), EnvSpec(MountainCar-v0), EnvSpec(MountainCarContinuous-v0), EnvSpec(Pendulum-v0), EnvSpec(Acrobot-v1), EnvSpec(LunarLander-v2), EnvSpec(LunarLanderContinuous-v2), EnvSpec(BipedalWalker-v3), EnvSpec(BipedalWalkerHardcore-v3), EnvSpec(CarRacing-v0), EnvSpec(Blackjack-v0), EnvSpec(KellyCoinflip-v0), EnvSpec(KellyCoinflipGeneralized-v0), EnvSpec(FrozenLake-v0), EnvSpec(FrozenLake8x8-v0), EnvSpec(CliffWalking-v0), EnvSpec(NChain-v0), EnvSpec(Roulette-v0), EnvSpec(Taxi-v3), EnvSpec(GuessingGame-v0), EnvSpec(HotterColder-v0), EnvSpec(Reacher-v2), EnvSpec(Pusher-v2), EnvSpec(Thrower-v2), EnvSpec(Striker-v2), EnvSpec(InvertedPendulum-v2), EnvSpec(InvertedDoublePendulum-v2), EnvSpec(HalfCheetah-v2), EnvSpec(HalfCheetah-v3), EnvSpec(Hopper-v2), EnvSpec(Hopper-v3), EnvSpec(Swimmer-v2), EnvSpec(Swimmer-v3), EnvSpec(Walker2d-v2), EnvSpec(Walker2d-v3), EnvSpec(Ant-v2), EnvSpec(Ant-v3), EnvSpec(Humanoid-v2), EnvSpec(Humanoid-v3), EnvSpec(HumanoidStandup-v2), EnvSpec(FetchSlide-v1), EnvSpec(FetchPickAndPlace-v1), EnvSpec(FetchReach-v1), EnvSpec(FetchPush-v1), EnvSpec(HandReach-v0), EnvSpec(HandManipulateBlockRotateZ-v0), EnvSpec(HandManipulateBlockRotateZTouchSensors-v0), EnvSpec(HandManipulateBlockRotateZTouchSensors-v1), EnvSpec(HandManipulateBlockRotateParallel-v0), EnvSpec(HandManipulateBlockRotateParallelTouchSensors-v0), EnvSpec(HandManipulateBlockRotateParallelTouchSensors-v1), EnvSpec(HandManipulateBlockRotateXYZ-v0), EnvSpec(HandManipulateBlockRotateXYZTouchSensors-v0), EnvSpec(HandManipulateBlockRotateXYZTouchSensors-v1), EnvSpec(HandManipulateBlockFull-v0), EnvSpec(HandManipulateBlock-v0), EnvSpec(HandManipulateBlockTouchSensors-v0), EnvSpec(HandManipulateBlockTouchSensors-v1), EnvSpec(HandManipulateEggRotate-v0), EnvSpec(HandManipulateEggRotateTouchSensors-v0), EnvSpec(HandManipulateEggRotateTouchSensors-v1), EnvSpec(HandManipulateEggFull-v0), EnvSpec(HandManipulateEgg-v0), EnvSpec(HandManipulateEggTouchSensors-v0), EnvSpec(HandManipulateEggTouchSensors-v1), EnvSpec(HandManipulatePenRotate-v0), EnvSpec(HandManipulatePenRotateTouchSensors-v0), EnvSpec(HandManipulatePenRotateTouchSensors-v1), EnvSpec(HandManipulatePenFull-v0), EnvSpec(HandManipulatePen-v0), EnvSpec(HandManipulatePenTouchSensors-v0), EnvSpec(HandManipulatePenTouchSensors-v1), EnvSpec(FetchSlideDense-v1), EnvSpec(FetchPickAndPlaceDense-v1), EnvSpec(FetchReachDense-v1), EnvSpec(FetchPushDense-v1), EnvSpec(HandReachDense-v0), EnvSpec(HandManipulateBlockRotateZDense-v0), EnvSpec(HandManipulateBlockRotateZTouchSensorsDense-v0), EnvSpec(HandManipulateBlockRotateZTouchSensorsDense-v1), EnvSpec(HandManipulateBlockRotateParallelDense-v0), EnvSpec(HandManipulateBlockRotateParallelTouchSensorsDense-v0), EnvSpec(HandManipulateBlockRotateParallelTouchSensorsDense-v1), EnvSpec(HandManipulateBlockRotateXYZDense-v0), EnvSpec(HandManipulateBlockRotateXYZTouchSensorsDense-v0), EnvSpec(HandManipulateBlockRotateXYZTouchSensorsDense-v1), EnvSpec(HandManipulateBlockFullDense-v0), EnvSpec(HandManipulateBlockDense-v0), EnvSpec(HandManipulateBlockTouchSensorsDense-v0), EnvSpec(HandManipulateBlockTouchSensorsDense-v1), EnvSpec(HandManipulateEggRotateDense-v0), EnvSpec(HandManipulateEggRotateTouchSensorsDense-v0), EnvSpec(HandManipulateEggRotateTouchSensorsDense-v1), EnvSpec(HandManipulateEggFullDense-v0), EnvSpec(HandManipulateEggDense-v0), EnvSpec(HandManipulateEggTouchSensorsDense-v0), EnvSpec(HandManipulateEggTouchSensorsDense-v1), EnvSpec(HandManipulatePenRotateDense-v0), EnvSpec(HandManipulatePenRotateTouchSensorsDense-v0), EnvSpec(HandManipulatePenRotateTouchSensorsDense-v1), EnvSpec(HandManipulatePenFullDense-v0), EnvSpec(HandManipulatePenDense-v0), EnvSpec(HandManipulatePenTouchSensorsDense-v0), EnvSpec(HandManipulatePenTouchSensorsDense-v1), EnvSpec(Adventure-v0), EnvSpec(Adventure-v4), EnvSpec(AdventureDeterministic-v0), EnvSpec(AdventureDeterministic-v4), EnvSpec(AdventureNoFrameskip-v0), EnvSpec(AdventureNoFrameskip-v4), EnvSpec(Adventure-ram-v0), EnvSpec(Adventure-ram-v4), EnvSpec(Adventure-ramDeterministic-v0), EnvSpec(Adventure-ramDeterministic-v4), EnvSpec(Adventure-ramNoFrameskip-v0), EnvSpec(Adventure-ramNoFrameskip-v4), EnvSpec(AirRaid-v0), EnvSpec(AirRaid-v4), EnvSpec(AirRaidDeterministic-v0), EnvSpec(AirRaidDeterministic-v4), EnvSpec(AirRaidNoFrameskip-v0), EnvSpec(AirRaidNoFrameskip-v4), EnvSpec(AirRaid-ram-v0), EnvSpec(AirRaid-ram-v4), EnvSpec(AirRaid-ramDeterministic-v0), EnvSpec(AirRaid-ramDeterministic-v4), EnvSpec(AirRaid-ramNoFrameskip-v0), EnvSpec(AirRaid-ramNoFrameskip-v4), EnvSpec(Alien-v0), EnvSpec(Alien-v4), EnvSpec(AlienDeterministic-v0), EnvSpec(AlienDeterministic-v4), EnvSpec(AlienNoFrameskip-v0), EnvSpec(AlienNoFrameskip-v4), EnvSpec(Alien-ram-v0), EnvSpec(Alien-ram-v4), EnvSpec(Alien-ramDeterministic-v0), EnvSpec(Alien-ramDeterministic-v4), EnvSpec(Alien-ramNoFrameskip-v0), EnvSpec(Alien-ramNoFrameskip-v4), EnvSpec(Amidar-v0), EnvSpec(Amidar-v4), EnvSpec(AmidarDeterministic-v0), EnvSpec(AmidarDeterministic-v4), EnvSpec(AmidarNoFrameskip-v0), EnvSpec(AmidarNoFrameskip-v4), EnvSpec(Amidar-ram-v0), EnvSpec(Amidar-ram-v4), EnvSpec(Amidar-ramDeterministic-v0), EnvSpec(Amidar-ramDeterministic-v4), EnvSpec(Amidar-ramNoFrameskip-v0), EnvSpec(Amidar-ramNoFrameskip-v4), EnvSpec(Assault-v0), EnvSpec(Assault-v4), EnvSpec(AssaultDeterministic-v0), EnvSpec(AssaultDeterministic-v4), EnvSpec(AssaultNoFrameskip-v0), EnvSpec(AssaultNoFrameskip-v4), EnvSpec(Assault-ram-v0), EnvSpec(Assault-ram-v4), EnvSpec(Assault-ramDeterministic-v0), EnvSpec(Assault-ramDeterministic-v4), EnvSpec(Assault-ramNoFrameskip-v0), EnvSpec(Assault-ramNoFrameskip-v4), EnvSpec(Asterix-v0), EnvSpec(Asterix-v4), EnvSpec(AsterixDeterministic-v0), EnvSpec(AsterixDeterministic-v4), EnvSpec(AsterixNoFrameskip-v0), EnvSpec(AsterixNoFrameskip-v4), EnvSpec(Asterix-ram-v0), EnvSpec(Asterix-ram-v4), EnvSpec(Asterix-ramDeterministic-v0), EnvSpec(Asterix-ramDeterministic-v4), EnvSpec(Asterix-ramNoFrameskip-v0), EnvSpec(Asterix-ramNoFrameskip-v4), EnvSpec(Asteroids-v0), EnvSpec(Asteroids-v4), EnvSpec(AsteroidsDeterministic-v0), EnvSpec(AsteroidsDeterministic-v4), EnvSpec(AsteroidsNoFrameskip-v0), EnvSpec(AsteroidsNoFrameskip-v4), EnvSpec(Asteroids-ram-v0), EnvSpec(Asteroids-ram-v4), EnvSpec(Asteroids-ramDeterministic-v0), EnvSpec(Asteroids-ramDeterministic-v4), EnvSpec(Asteroids-ramNoFrameskip-v0), EnvSpec(Asteroids-ramNoFrameskip-v4), EnvSpec(Atlantis-v0), EnvSpec(Atlantis-v4), EnvSpec(AtlantisDeterministic-v0), EnvSpec(AtlantisDeterministic-v4), EnvSpec(AtlantisNoFrameskip-v0), EnvSpec(AtlantisNoFrameskip-v4), EnvSpec(Atlantis-ram-v0), EnvSpec(Atlantis-ram-v4), EnvSpec(Atlantis-ramDeterministic-v0), EnvSpec(Atlantis-ramDeterministic-v4), EnvSpec(Atlantis-ramNoFrameskip-v0), EnvSpec(Atlantis-ramNoFrameskip-v4), EnvSpec(BankHeist-v0), EnvSpec(BankHeist-v4), EnvSpec(BankHeistDeterministic-v0), EnvSpec(BankHeistDeterministic-v4), EnvSpec(BankHeistNoFrameskip-v0), EnvSpec(BankHeistNoFrameskip-v4), EnvSpec(BankHeist-ram-v0), EnvSpec(BankHeist-ram-v4), EnvSpec(BankHeist-ramDeterministic-v0), EnvSpec(BankHeist-ramDeterministic-v4), EnvSpec(BankHeist-ramNoFrameskip-v0), EnvSpec(BankHeist-ramNoFrameskip-v4), EnvSpec(BattleZone-v0), EnvSpec(BattleZone-v4), EnvSpec(BattleZoneDeterministic-v0), EnvSpec(BattleZoneDeterministic-v4), EnvSpec(BattleZoneNoFrameskip-v0), EnvSpec(BattleZoneNoFrameskip-v4), EnvSpec(BattleZone-ram-v0), EnvSpec(BattleZone-ram-v4), EnvSpec(BattleZone-ramDeterministic-v0), EnvSpec(BattleZone-ramDeterministic-v4), EnvSpec(BattleZone-ramNoFrameskip-v0), EnvSpec(BattleZone-ramNoFrameskip-v4), EnvSpec(BeamRider-v0), EnvSpec(BeamRider-v4), EnvSpec(BeamRiderDeterministic-v0), EnvSpec(BeamRiderDeterministic-v4), EnvSpec(BeamRiderNoFrameskip-v0), EnvSpec(BeamRiderNoFrameskip-v4), EnvSpec(BeamRider-ram-v0), EnvSpec(BeamRider-ram-v4), EnvSpec(BeamRider-ramDeterministic-v0), EnvSpec(BeamRider-ramDeterministic-v4), EnvSpec(BeamRider-ramNoFrameskip-v0), EnvSpec(BeamRider-ramNoFrameskip-v4), EnvSpec(Berzerk-v0), EnvSpec(Berzerk-v4), EnvSpec(BerzerkDeterministic-v0), EnvSpec(BerzerkDeterministic-v4), EnvSpec(BerzerkNoFrameskip-v0), EnvSpec(BerzerkNoFrameskip-v4), EnvSpec(Berzerk-ram-v0), EnvSpec(Berzerk-ram-v4), EnvSpec(Berzerk-ramDeterministic-v0), EnvSpec(Berzerk-ramDeterministic-v4), EnvSpec(Berzerk-ramNoFrameskip-v0), EnvSpec(Berzerk-ramNoFrameskip-v4), EnvSpec(Bowling-v0), EnvSpec(Bowling-v4), EnvSpec(BowlingDeterministic-v0), EnvSpec(BowlingDeterministic-v4), EnvSpec(BowlingNoFrameskip-v0), EnvSpec(BowlingNoFrameskip-v4), EnvSpec(Bowling-ram-v0), EnvSpec(Bowling-ram-v4), EnvSpec(Bowling-ramDeterministic-v0), EnvSpec(Bowling-ramDeterministic-v4), EnvSpec(Bowling-ramNoFrameskip-v0), EnvSpec(Bowling-ramNoFrameskip-v4), EnvSpec(Boxing-v0), EnvSpec(Boxing-v4), EnvSpec(BoxingDeterministic-v0), EnvSpec(BoxingDeterministic-v4), EnvSpec(BoxingNoFrameskip-v0), EnvSpec(BoxingNoFrameskip-v4), EnvSpec(Boxing-ram-v0), EnvSpec(Boxing-ram-v4), EnvSpec(Boxing-ramDeterministic-v0), EnvSpec(Boxing-ramDeterministic-v4), EnvSpec(Boxing-ramNoFrameskip-v0), EnvSpec(Boxing-ramNoFrameskip-v4), EnvSpec(Breakout-v0), EnvSpec(Breakout-v4), EnvSpec(BreakoutDeterministic-v0), EnvSpec(BreakoutDeterministic-v4), EnvSpec(BreakoutNoFrameskip-v0), EnvSpec(BreakoutNoFrameskip-v4), EnvSpec(Breakout-ram-v0), EnvSpec(Breakout-ram-v4), EnvSpec(Breakout-ramDeterministic-v0), EnvSpec(Breakout-ramDeterministic-v4), EnvSpec(Breakout-ramNoFrameskip-v0), EnvSpec(Breakout-ramNoFrameskip-v4), EnvSpec(Carnival-v0), EnvSpec(Carnival-v4), EnvSpec(CarnivalDeterministic-v0), EnvSpec(CarnivalDeterministic-v4), EnvSpec(CarnivalNoFrameskip-v0), EnvSpec(CarnivalNoFrameskip-v4), EnvSpec(Carnival-ram-v0), EnvSpec(Carnival-ram-v4), EnvSpec(Carnival-ramDeterministic-v0), EnvSpec(Carnival-ramDeterministic-v4), EnvSpec(Carnival-ramNoFrameskip-v0), EnvSpec(Carnival-ramNoFrameskip-v4), EnvSpec(Centipede-v0), EnvSpec(Centipede-v4), EnvSpec(CentipedeDeterministic-v0), EnvSpec(CentipedeDeterministic-v4), EnvSpec(CentipedeNoFrameskip-v0), EnvSpec(CentipedeNoFrameskip-v4), EnvSpec(Centipede-ram-v0), EnvSpec(Centipede-ram-v4), EnvSpec(Centipede-ramDeterministic-v0), EnvSpec(Centipede-ramDeterministic-v4), EnvSpec(Centipede-ramNoFrameskip-v0), EnvSpec(Centipede-ramNoFrameskip-v4), EnvSpec(ChopperCommand-v0), EnvSpec(ChopperCommand-v4), EnvSpec(ChopperCommandDeterministic-v0), EnvSpec(ChopperCommandDeterministic-v4), EnvSpec(ChopperCommandNoFrameskip-v0), EnvSpec(ChopperCommandNoFrameskip-v4), EnvSpec(ChopperCommand-ram-v0), EnvSpec(ChopperCommand-ram-v4), EnvSpec(ChopperCommand-ramDeterministic-v0), EnvSpec(ChopperCommand-ramDeterministic-v4), EnvSpec(ChopperCommand-ramNoFrameskip-v0), EnvSpec(ChopperCommand-ramNoFrameskip-v4), EnvSpec(CrazyClimber-v0), EnvSpec(CrazyClimber-v4), EnvSpec(CrazyClimberDeterministic-v0), EnvSpec(CrazyClimberDeterministic-v4), EnvSpec(CrazyClimberNoFrameskip-v0), EnvSpec(CrazyClimberNoFrameskip-v4), EnvSpec(CrazyClimber-ram-v0), EnvSpec(CrazyClimber-ram-v4), EnvSpec(CrazyClimber-ramDeterministic-v0), EnvSpec(CrazyClimber-ramDeterministic-v4), EnvSpec(CrazyClimber-ramNoFrameskip-v0), EnvSpec(CrazyClimber-ramNoFrameskip-v4), EnvSpec(Defender-v0), EnvSpec(Defender-v4), EnvSpec(DefenderDeterministic-v0), EnvSpec(DefenderDeterministic-v4), EnvSpec(DefenderNoFrameskip-v0), EnvSpec(DefenderNoFrameskip-v4), EnvSpec(Defender-ram-v0), EnvSpec(Defender-ram-v4), EnvSpec(Defender-ramDeterministic-v0), EnvSpec(Defender-ramDeterministic-v4), EnvSpec(Defender-ramNoFrameskip-v0), EnvSpec(Defender-ramNoFrameskip-v4), EnvSpec(DemonAttack-v0), EnvSpec(DemonAttack-v4), EnvSpec(DemonAttackDeterministic-v0), EnvSpec(DemonAttackDeterministic-v4), EnvSpec(DemonAttackNoFrameskip-v0), EnvSpec(DemonAttackNoFrameskip-v4), EnvSpec(DemonAttack-ram-v0), EnvSpec(DemonAttack-ram-v4), EnvSpec(DemonAttack-ramDeterministic-v0), EnvSpec(DemonAttack-ramDeterministic-v4), EnvSpec(DemonAttack-ramNoFrameskip-v0), EnvSpec(DemonAttack-ramNoFrameskip-v4), EnvSpec(DoubleDunk-v0), EnvSpec(DoubleDunk-v4), EnvSpec(DoubleDunkDeterministic-v0), EnvSpec(DoubleDunkDeterministic-v4), EnvSpec(DoubleDunkNoFrameskip-v0), EnvSpec(DoubleDunkNoFrameskip-v4), EnvSpec(DoubleDunk-ram-v0), EnvSpec(DoubleDunk-ram-v4), EnvSpec(DoubleDunk-ramDeterministic-v0), EnvSpec(DoubleDunk-ramDeterministic-v4), EnvSpec(DoubleDunk-ramNoFrameskip-v0), EnvSpec(DoubleDunk-ramNoFrameskip-v4), EnvSpec(ElevatorAction-v0), EnvSpec(ElevatorAction-v4), EnvSpec(ElevatorActionDeterministic-v0), EnvSpec(ElevatorActionDeterministic-v4), EnvSpec(ElevatorActionNoFrameskip-v0), EnvSpec(ElevatorActionNoFrameskip-v4), EnvSpec(ElevatorAction-ram-v0), EnvSpec(ElevatorAction-ram-v4), EnvSpec(ElevatorAction-ramDeterministic-v0), EnvSpec(ElevatorAction-ramDeterministic-v4), EnvSpec(ElevatorAction-ramNoFrameskip-v0), EnvSpec(ElevatorAction-ramNoFrameskip-v4), EnvSpec(Enduro-v0), EnvSpec(Enduro-v4), EnvSpec(EnduroDeterministic-v0), EnvSpec(EnduroDeterministic-v4), EnvSpec(EnduroNoFrameskip-v0), EnvSpec(EnduroNoFrameskip-v4), EnvSpec(Enduro-ram-v0), EnvSpec(Enduro-ram-v4), EnvSpec(Enduro-ramDeterministic-v0), EnvSpec(Enduro-ramDeterministic-v4), EnvSpec(Enduro-ramNoFrameskip-v0), EnvSpec(Enduro-ramNoFrameskip-v4), EnvSpec(FishingDerby-v0), EnvSpec(FishingDerby-v4), EnvSpec(FishingDerbyDeterministic-v0), EnvSpec(FishingDerbyDeterministic-v4), EnvSpec(FishingDerbyNoFrameskip-v0), EnvSpec(FishingDerbyNoFrameskip-v4), EnvSpec(FishingDerby-ram-v0), EnvSpec(FishingDerby-ram-v4), EnvSpec(FishingDerby-ramDeterministic-v0), EnvSpec(FishingDerby-ramDeterministic-v4), EnvSpec(FishingDerby-ramNoFrameskip-v0), EnvSpec(FishingDerby-ramNoFrameskip-v4), EnvSpec(Freeway-v0), EnvSpec(Freeway-v4), EnvSpec(FreewayDeterministic-v0), EnvSpec(FreewayDeterministic-v4), EnvSpec(FreewayNoFrameskip-v0), EnvSpec(FreewayNoFrameskip-v4), EnvSpec(Freeway-ram-v0), EnvSpec(Freeway-ram-v4), EnvSpec(Freeway-ramDeterministic-v0), EnvSpec(Freeway-ramDeterministic-v4), EnvSpec(Freeway-ramNoFrameskip-v0), EnvSpec(Freeway-ramNoFrameskip-v4), EnvSpec(Frostbite-v0), EnvSpec(Frostbite-v4), EnvSpec(FrostbiteDeterministic-v0), EnvSpec(FrostbiteDeterministic-v4), EnvSpec(FrostbiteNoFrameskip-v0), EnvSpec(FrostbiteNoFrameskip-v4), EnvSpec(Frostbite-ram-v0), EnvSpec(Frostbite-ram-v4), EnvSpec(Frostbite-ramDeterministic-v0), EnvSpec(Frostbite-ramDeterministic-v4), EnvSpec(Frostbite-ramNoFrameskip-v0), EnvSpec(Frostbite-ramNoFrameskip-v4), EnvSpec(Gopher-v0), EnvSpec(Gopher-v4), EnvSpec(GopherDeterministic-v0), EnvSpec(GopherDeterministic-v4), EnvSpec(GopherNoFrameskip-v0), EnvSpec(GopherNoFrameskip-v4), EnvSpec(Gopher-ram-v0), EnvSpec(Gopher-ram-v4), EnvSpec(Gopher-ramDeterministic-v0), EnvSpec(Gopher-ramDeterministic-v4), EnvSpec(Gopher-ramNoFrameskip-v0), EnvSpec(Gopher-ramNoFrameskip-v4), EnvSpec(Gravitar-v0), EnvSpec(Gravitar-v4), EnvSpec(GravitarDeterministic-v0), EnvSpec(GravitarDeterministic-v4), EnvSpec(GravitarNoFrameskip-v0), EnvSpec(GravitarNoFrameskip-v4), EnvSpec(Gravitar-ram-v0), EnvSpec(Gravitar-ram-v4), EnvSpec(Gravitar-ramDeterministic-v0), EnvSpec(Gravitar-ramDeterministic-v4), EnvSpec(Gravitar-ramNoFrameskip-v0), EnvSpec(Gravitar-ramNoFrameskip-v4), EnvSpec(Hero-v0), EnvSpec(Hero-v4), EnvSpec(HeroDeterministic-v0), EnvSpec(HeroDeterministic-v4), EnvSpec(HeroNoFrameskip-v0), EnvSpec(HeroNoFrameskip-v4), EnvSpec(Hero-ram-v0), EnvSpec(Hero-ram-v4), EnvSpec(Hero-ramDeterministic-v0), EnvSpec(Hero-ramDeterministic-v4), EnvSpec(Hero-ramNoFrameskip-v0), EnvSpec(Hero-ramNoFrameskip-v4), EnvSpec(IceHockey-v0), EnvSpec(IceHockey-v4), EnvSpec(IceHockeyDeterministic-v0), EnvSpec(IceHockeyDeterministic-v4), EnvSpec(IceHockeyNoFrameskip-v0), EnvSpec(IceHockeyNoFrameskip-v4), EnvSpec(IceHockey-ram-v0), EnvSpec(IceHockey-ram-v4), EnvSpec(IceHockey-ramDeterministic-v0), EnvSpec(IceHockey-ramDeterministic-v4), EnvSpec(IceHockey-ramNoFrameskip-v0), EnvSpec(IceHockey-ramNoFrameskip-v4), EnvSpec(Jamesbond-v0), EnvSpec(Jamesbond-v4), EnvSpec(JamesbondDeterministic-v0), EnvSpec(JamesbondDeterministic-v4), EnvSpec(JamesbondNoFrameskip-v0), EnvSpec(JamesbondNoFrameskip-v4), EnvSpec(Jamesbond-ram-v0), EnvSpec(Jamesbond-ram-v4), EnvSpec(Jamesbond-ramDeterministic-v0), EnvSpec(Jamesbond-ramDeterministic-v4), EnvSpec(Jamesbond-ramNoFrameskip-v0), EnvSpec(Jamesbond-ramNoFrameskip-v4), EnvSpec(JourneyEscape-v0), EnvSpec(JourneyEscape-v4), EnvSpec(JourneyEscapeDeterministic-v0), EnvSpec(JourneyEscapeDeterministic-v4), EnvSpec(JourneyEscapeNoFrameskip-v0), EnvSpec(JourneyEscapeNoFrameskip-v4), EnvSpec(JourneyEscape-ram-v0), EnvSpec(JourneyEscape-ram-v4), EnvSpec(JourneyEscape-ramDeterministic-v0), EnvSpec(JourneyEscape-ramDeterministic-v4), EnvSpec(JourneyEscape-ramNoFrameskip-v0), EnvSpec(JourneyEscape-ramNoFrameskip-v4), EnvSpec(Kangaroo-v0), EnvSpec(Kangaroo-v4), EnvSpec(KangarooDeterministic-v0), EnvSpec(KangarooDeterministic-v4), EnvSpec(KangarooNoFrameskip-v0), EnvSpec(KangarooNoFrameskip-v4), EnvSpec(Kangaroo-ram-v0), EnvSpec(Kangaroo-ram-v4), EnvSpec(Kangaroo-ramDeterministic-v0), EnvSpec(Kangaroo-ramDeterministic-v4), EnvSpec(Kangaroo-ramNoFrameskip-v0), EnvSpec(Kangaroo-ramNoFrameskip-v4), EnvSpec(Krull-v0), EnvSpec(Krull-v4), EnvSpec(KrullDeterministic-v0), EnvSpec(KrullDeterministic-v4), EnvSpec(KrullNoFrameskip-v0), EnvSpec(KrullNoFrameskip-v4), EnvSpec(Krull-ram-v0), EnvSpec(Krull-ram-v4), EnvSpec(Krull-ramDeterministic-v0), EnvSpec(Krull-ramDeterministic-v4), EnvSpec(Krull-ramNoFrameskip-v0), EnvSpec(Krull-ramNoFrameskip-v4), EnvSpec(KungFuMaster-v0), EnvSpec(KungFuMaster-v4), EnvSpec(KungFuMasterDeterministic-v0), EnvSpec(KungFuMasterDeterministic-v4), EnvSpec(KungFuMasterNoFrameskip-v0), EnvSpec(KungFuMasterNoFrameskip-v4), EnvSpec(KungFuMaster-ram-v0), EnvSpec(KungFuMaster-ram-v4), EnvSpec(KungFuMaster-ramDeterministic-v0), EnvSpec(KungFuMaster-ramDeterministic-v4), EnvSpec(KungFuMaster-ramNoFrameskip-v0), EnvSpec(KungFuMaster-ramNoFrameskip-v4), EnvSpec(MontezumaRevenge-v0), EnvSpec(MontezumaRevenge-v4), EnvSpec(MontezumaRevengeDeterministic-v0), EnvSpec(MontezumaRevengeDeterministic-v4), EnvSpec(MontezumaRevengeNoFrameskip-v0), EnvSpec(MontezumaRevengeNoFrameskip-v4), EnvSpec(MontezumaRevenge-ram-v0), EnvSpec(MontezumaRevenge-ram-v4), EnvSpec(MontezumaRevenge-ramDeterministic-v0), EnvSpec(MontezumaRevenge-ramDeterministic-v4), EnvSpec(MontezumaRevenge-ramNoFrameskip-v0), EnvSpec(MontezumaRevenge-ramNoFrameskip-v4), EnvSpec(MsPacman-v0), EnvSpec(MsPacman-v4), EnvSpec(MsPacmanDeterministic-v0), EnvSpec(MsPacmanDeterministic-v4), EnvSpec(MsPacmanNoFrameskip-v0), EnvSpec(MsPacmanNoFrameskip-v4), EnvSpec(MsPacman-ram-v0), EnvSpec(MsPacman-ram-v4), EnvSpec(MsPacman-ramDeterministic-v0), EnvSpec(MsPacman-ramDeterministic-v4), EnvSpec(MsPacman-ramNoFrameskip-v0), EnvSpec(MsPacman-ramNoFrameskip-v4), EnvSpec(NameThisGame-v0), EnvSpec(NameThisGame-v4), EnvSpec(NameThisGameDeterministic-v0), EnvSpec(NameThisGameDeterministic-v4), EnvSpec(NameThisGameNoFrameskip-v0), EnvSpec(NameThisGameNoFrameskip-v4), EnvSpec(NameThisGame-ram-v0), EnvSpec(NameThisGame-ram-v4), EnvSpec(NameThisGame-ramDeterministic-v0), EnvSpec(NameThisGame-ramDeterministic-v4), EnvSpec(NameThisGame-ramNoFrameskip-v0), EnvSpec(NameThisGame-ramNoFrameskip-v4), EnvSpec(Phoenix-v0), EnvSpec(Phoenix-v4), EnvSpec(PhoenixDeterministic-v0), EnvSpec(PhoenixDeterministic-v4), EnvSpec(PhoenixNoFrameskip-v0), EnvSpec(PhoenixNoFrameskip-v4), EnvSpec(Phoenix-ram-v0), EnvSpec(Phoenix-ram-v4), EnvSpec(Phoenix-ramDeterministic-v0), EnvSpec(Phoenix-ramDeterministic-v4), EnvSpec(Phoenix-ramNoFrameskip-v0), EnvSpec(Phoenix-ramNoFrameskip-v4), EnvSpec(Pitfall-v0), EnvSpec(Pitfall-v4), EnvSpec(PitfallDeterministic-v0), EnvSpec(PitfallDeterministic-v4), EnvSpec(PitfallNoFrameskip-v0), EnvSpec(PitfallNoFrameskip-v4), EnvSpec(Pitfall-ram-v0), EnvSpec(Pitfall-ram-v4), EnvSpec(Pitfall-ramDeterministic-v0), EnvSpec(Pitfall-ramDeterministic-v4), EnvSpec(Pitfall-ramNoFrameskip-v0), EnvSpec(Pitfall-ramNoFrameskip-v4), EnvSpec(Pong-v0), EnvSpec(Pong-v4), EnvSpec(PongDeterministic-v0), EnvSpec(PongDeterministic-v4), EnvSpec(PongNoFrameskip-v0), EnvSpec(PongNoFrameskip-v4), EnvSpec(Pong-ram-v0), EnvSpec(Pong-ram-v4), EnvSpec(Pong-ramDeterministic-v0), EnvSpec(Pong-ramDeterministic-v4), EnvSpec(Pong-ramNoFrameskip-v0), EnvSpec(Pong-ramNoFrameskip-v4), EnvSpec(Pooyan-v0), EnvSpec(Pooyan-v4), EnvSpec(PooyanDeterministic-v0), EnvSpec(PooyanDeterministic-v4), EnvSpec(PooyanNoFrameskip-v0), EnvSpec(PooyanNoFrameskip-v4), EnvSpec(Pooyan-ram-v0), EnvSpec(Pooyan-ram-v4), EnvSpec(Pooyan-ramDeterministic-v0), EnvSpec(Pooyan-ramDeterministic-v4), EnvSpec(Pooyan-ramNoFrameskip-v0), EnvSpec(Pooyan-ramNoFrameskip-v4), EnvSpec(PrivateEye-v0), EnvSpec(PrivateEye-v4), EnvSpec(PrivateEyeDeterministic-v0), EnvSpec(PrivateEyeDeterministic-v4), EnvSpec(PrivateEyeNoFrameskip-v0), EnvSpec(PrivateEyeNoFrameskip-v4), EnvSpec(PrivateEye-ram-v0), EnvSpec(PrivateEye-ram-v4), EnvSpec(PrivateEye-ramDeterministic-v0), EnvSpec(PrivateEye-ramDeterministic-v4), EnvSpec(PrivateEye-ramNoFrameskip-v0), EnvSpec(PrivateEye-ramNoFrameskip-v4), EnvSpec(Qbert-v0), EnvSpec(Qbert-v4), EnvSpec(QbertDeterministic-v0), EnvSpec(QbertDeterministic-v4), EnvSpec(QbertNoFrameskip-v0), EnvSpec(QbertNoFrameskip-v4), EnvSpec(Qbert-ram-v0), EnvSpec(Qbert-ram-v4), EnvSpec(Qbert-ramDeterministic-v0), EnvSpec(Qbert-ramDeterministic-v4), EnvSpec(Qbert-ramNoFrameskip-v0), EnvSpec(Qbert-ramNoFrameskip-v4), EnvSpec(Riverraid-v0), EnvSpec(Riverraid-v4), EnvSpec(RiverraidDeterministic-v0), EnvSpec(RiverraidDeterministic-v4), EnvSpec(RiverraidNoFrameskip-v0), EnvSpec(RiverraidNoFrameskip-v4), EnvSpec(Riverraid-ram-v0), EnvSpec(Riverraid-ram-v4), EnvSpec(Riverraid-ramDeterministic-v0), EnvSpec(Riverraid-ramDeterministic-v4), EnvSpec(Riverraid-ramNoFrameskip-v0), EnvSpec(Riverraid-ramNoFrameskip-v4), EnvSpec(RoadRunner-v0), EnvSpec(RoadRunner-v4), EnvSpec(RoadRunnerDeterministic-v0), EnvSpec(RoadRunnerDeterministic-v4), EnvSpec(RoadRunnerNoFrameskip-v0), EnvSpec(RoadRunnerNoFrameskip-v4), EnvSpec(RoadRunner-ram-v0), EnvSpec(RoadRunner-ram-v4), EnvSpec(RoadRunner-ramDeterministic-v0), EnvSpec(RoadRunner-ramDeterministic-v4), EnvSpec(RoadRunner-ramNoFrameskip-v0), EnvSpec(RoadRunner-ramNoFrameskip-v4), EnvSpec(Robotank-v0), EnvSpec(Robotank-v4), EnvSpec(RobotankDeterministic-v0), EnvSpec(RobotankDeterministic-v4), EnvSpec(RobotankNoFrameskip-v0), EnvSpec(RobotankNoFrameskip-v4), EnvSpec(Robotank-ram-v0), EnvSpec(Robotank-ram-v4), EnvSpec(Robotank-ramDeterministic-v0), EnvSpec(Robotank-ramDeterministic-v4), EnvSpec(Robotank-ramNoFrameskip-v0), EnvSpec(Robotank-ramNoFrameskip-v4), EnvSpec(Seaquest-v0), EnvSpec(Seaquest-v4), EnvSpec(SeaquestDeterministic-v0), EnvSpec(SeaquestDeterministic-v4), EnvSpec(SeaquestNoFrameskip-v0), EnvSpec(SeaquestNoFrameskip-v4), EnvSpec(Seaquest-ram-v0), EnvSpec(Seaquest-ram-v4), EnvSpec(Seaquest-ramDeterministic-v0), EnvSpec(Seaquest-ramDeterministic-v4), EnvSpec(Seaquest-ramNoFrameskip-v0), EnvSpec(Seaquest-ramNoFrameskip-v4), EnvSpec(Skiing-v0), EnvSpec(Skiing-v4), EnvSpec(SkiingDeterministic-v0), EnvSpec(SkiingDeterministic-v4), EnvSpec(SkiingNoFrameskip-v0), EnvSpec(SkiingNoFrameskip-v4), EnvSpec(Skiing-ram-v0), EnvSpec(Skiing-ram-v4), EnvSpec(Skiing-ramDeterministic-v0), EnvSpec(Skiing-ramDeterministic-v4), EnvSpec(Skiing-ramNoFrameskip-v0), EnvSpec(Skiing-ramNoFrameskip-v4), EnvSpec(Solaris-v0), EnvSpec(Solaris-v4), EnvSpec(SolarisDeterministic-v0), EnvSpec(SolarisDeterministic-v4), EnvSpec(SolarisNoFrameskip-v0), EnvSpec(SolarisNoFrameskip-v4), EnvSpec(Solaris-ram-v0), EnvSpec(Solaris-ram-v4), EnvSpec(Solaris-ramDeterministic-v0), EnvSpec(Solaris-ramDeterministic-v4), EnvSpec(Solaris-ramNoFrameskip-v0), EnvSpec(Solaris-ramNoFrameskip-v4), EnvSpec(SpaceInvaders-v0), EnvSpec(SpaceInvaders-v4), EnvSpec(SpaceInvadersDeterministic-v0), EnvSpec(SpaceInvadersDeterministic-v4), EnvSpec(SpaceInvadersNoFrameskip-v0), EnvSpec(SpaceInvadersNoFrameskip-v4), EnvSpec(SpaceInvaders-ram-v0), EnvSpec(SpaceInvaders-ram-v4), EnvSpec(SpaceInvaders-ramDeterministic-v0), EnvSpec(SpaceInvaders-ramDeterministic-v4), EnvSpec(SpaceInvaders-ramNoFrameskip-v0), EnvSpec(SpaceInvaders-ramNoFrameskip-v4), EnvSpec(StarGunner-v0), EnvSpec(StarGunner-v4), EnvSpec(StarGunnerDeterministic-v0), EnvSpec(StarGunnerDeterministic-v4), EnvSpec(StarGunnerNoFrameskip-v0), EnvSpec(StarGunnerNoFrameskip-v4), EnvSpec(StarGunner-ram-v0), EnvSpec(StarGunner-ram-v4), EnvSpec(StarGunner-ramDeterministic-v0), EnvSpec(StarGunner-ramDeterministic-v4), EnvSpec(StarGunner-ramNoFrameskip-v0), EnvSpec(StarGunner-ramNoFrameskip-v4), EnvSpec(Tennis-v0), EnvSpec(Tennis-v4), EnvSpec(TennisDeterministic-v0), EnvSpec(TennisDeterministic-v4), EnvSpec(TennisNoFrameskip-v0), EnvSpec(TennisNoFrameskip-v4), EnvSpec(Tennis-ram-v0), EnvSpec(Tennis-ram-v4), EnvSpec(Tennis-ramDeterministic-v0), EnvSpec(Tennis-ramDeterministic-v4), EnvSpec(Tennis-ramNoFrameskip-v0), EnvSpec(Tennis-ramNoFrameskip-v4), EnvSpec(TimePilot-v0), EnvSpec(TimePilot-v4), EnvSpec(TimePilotDeterministic-v0), EnvSpec(TimePilotDeterministic-v4), EnvSpec(TimePilotNoFrameskip-v0), EnvSpec(TimePilotNoFrameskip-v4), EnvSpec(TimePilot-ram-v0), EnvSpec(TimePilot-ram-v4), EnvSpec(TimePilot-ramDeterministic-v0), EnvSpec(TimePilot-ramDeterministic-v4), EnvSpec(TimePilot-ramNoFrameskip-v0), EnvSpec(TimePilot-ramNoFrameskip-v4), EnvSpec(Tutankham-v0), EnvSpec(Tutankham-v4), EnvSpec(TutankhamDeterministic-v0), EnvSpec(TutankhamDeterministic-v4), EnvSpec(TutankhamNoFrameskip-v0), EnvSpec(TutankhamNoFrameskip-v4), EnvSpec(Tutankham-ram-v0), EnvSpec(Tutankham-ram-v4), EnvSpec(Tutankham-ramDeterministic-v0), EnvSpec(Tutankham-ramDeterministic-v4), EnvSpec(Tutankham-ramNoFrameskip-v0), EnvSpec(Tutankham-ramNoFrameskip-v4), EnvSpec(UpNDown-v0), EnvSpec(UpNDown-v4), EnvSpec(UpNDownDeterministic-v0), EnvSpec(UpNDownDeterministic-v4), EnvSpec(UpNDownNoFrameskip-v0), EnvSpec(UpNDownNoFrameskip-v4), EnvSpec(UpNDown-ram-v0), EnvSpec(UpNDown-ram-v4), EnvSpec(UpNDown-ramDeterministic-v0), EnvSpec(UpNDown-ramDeterministic-v4), EnvSpec(UpNDown-ramNoFrameskip-v0), EnvSpec(UpNDown-ramNoFrameskip-v4), EnvSpec(Venture-v0), EnvSpec(Venture-v4), EnvSpec(VentureDeterministic-v0), EnvSpec(VentureDeterministic-v4), EnvSpec(VentureNoFrameskip-v0), EnvSpec(VentureNoFrameskip-v4), EnvSpec(Venture-ram-v0), EnvSpec(Venture-ram-v4), EnvSpec(Venture-ramDeterministic-v0), EnvSpec(Venture-ramDeterministic-v4), EnvSpec(Venture-ramNoFrameskip-v0), EnvSpec(Venture-ramNoFrameskip-v4), EnvSpec(VideoPinball-v0), EnvSpec(VideoPinball-v4), EnvSpec(VideoPinballDeterministic-v0), EnvSpec(VideoPinballDeterministic-v4), EnvSpec(VideoPinballNoFrameskip-v0), EnvSpec(VideoPinballNoFrameskip-v4), EnvSpec(VideoPinball-ram-v0), EnvSpec(VideoPinball-ram-v4), EnvSpec(VideoPinball-ramDeterministic-v0), EnvSpec(VideoPinball-ramDeterministic-v4), EnvSpec(VideoPinball-ramNoFrameskip-v0), EnvSpec(VideoPinball-ramNoFrameskip-v4), EnvSpec(WizardOfWor-v0), EnvSpec(WizardOfWor-v4), EnvSpec(WizardOfWorDeterministic-v0), EnvSpec(WizardOfWorDeterministic-v4), EnvSpec(WizardOfWorNoFrameskip-v0), EnvSpec(WizardOfWorNoFrameskip-v4), EnvSpec(WizardOfWor-ram-v0), EnvSpec(WizardOfWor-ram-v4), EnvSpec(WizardOfWor-ramDeterministic-v0), EnvSpec(WizardOfWor-ramDeterministic-v4), EnvSpec(WizardOfWor-ramNoFrameskip-v0), EnvSpec(WizardOfWor-ramNoFrameskip-v4), EnvSpec(YarsRevenge-v0), EnvSpec(YarsRevenge-v4), EnvSpec(YarsRevengeDeterministic-v0), EnvSpec(YarsRevengeDeterministic-v4), EnvSpec(YarsRevengeNoFrameskip-v0), EnvSpec(YarsRevengeNoFrameskip-v4), EnvSpec(YarsRevenge-ram-v0), EnvSpec(YarsRevenge-ram-v4), EnvSpec(YarsRevenge-ramDeterministic-v0), EnvSpec(YarsRevenge-ramDeterministic-v4), EnvSpec(YarsRevenge-ramNoFrameskip-v0), EnvSpec(YarsRevenge-ramNoFrameskip-v4), EnvSpec(Zaxxon-v0), EnvSpec(Zaxxon-v4), EnvSpec(ZaxxonDeterministic-v0), EnvSpec(ZaxxonDeterministic-v4), EnvSpec(ZaxxonNoFrameskip-v0), EnvSpec(ZaxxonNoFrameskip-v4), EnvSpec(Zaxxon-ram-v0), EnvSpec(Zaxxon-ram-v4), EnvSpec(Zaxxon-ramDeterministic-v0), EnvSpec(Zaxxon-ramDeterministic-v4), EnvSpec(Zaxxon-ramNoFrameskip-v0), EnvSpec(Zaxxon-ramNoFrameskip-v4), EnvSpec(CubeCrash-v0), EnvSpec(CubeCrashSparse-v0), EnvSpec(CubeCrashScreenBecomesBlack-v0), EnvSpec(MemorizeDigits-v0)])\n"
     ]
    }
   ],
   "source": [
    "import gym\n",
    "print(gym.envs.registry.all())"
   ]
  },
  {
   "cell_type": "code",
   "execution_count": 5,
   "metadata": {},
   "outputs": [],
   "source": [
    "import gym\n",
    "env = gym.make('Seaquest-v0')\n",
    "#env = gym.make('FetchPickAndPlace-v1')\n",
    "env.reset()\n",
    "for _ in range(1000):\n",
    "    env.render()\n",
    "    env.step(env.action_space.sample()) # take a random action\n",
    "env.close()"
   ]
  },
  {
   "cell_type": "markdown",
   "metadata": {},
   "source": [
    "# 1.3 搭建扫地机器人的Gym环境\n",
    "&emsp;&emsp;为了更好地阐述机器学习算法，为后续章节提供一个简单的实验环境，本节利用Gym搭建一个扫地机器人环境。该环境描述如下：在一个5 $\\times$ 5的扫地机器人环境中，有一个垃圾和一个充电桩，到达[5,4]处机器人捡到垃圾，并结束游戏，同时获得+5的奖赏；左下角[1,1]处有一个充电桩，机器人到达充电桩可以充电，且不再行走，获得+1的奖赏。环境中间[3,3]处有一个障碍物，机器人无法通过。扫地机器人整体结构如图2.19所示。<br>\n",
    "<center><img src='./image/图2.19.png' width='275'></center>\n",
    "<center>图2.19&ensp; 扫地机器人整体结构</center>\n",
    "&emsp;&emsp;扫地机器人具体流程如下：<br>\n",
    "&emsp;&emsp;（1）每局游戏开始，机器人初始位置位于左上角，即[1,5]处。<br>\n",
    "&emsp;&emsp;（2）游戏进行过程中，机器人将在地图上不断进行探索。<br>\n",
    "&emsp;&emsp;（3）机器人遇到障碍物位时无法通过，保持原地不动，获得-10的奖赏。<br>\n",
    "&emsp;&emsp;（4）迷宫地图有两个终止状态。一个为捡到垃圾，获得+5的奖赏；另一个为达到充电桩进行充电，获得+1奖赏。<br>\n",
    "&emsp;&emsp;（5）扫地机器人到达终止状态，即一个情节结束，机器人回到初始位置。<br>"
   ]
  },
  {
   "cell_type": "code",
   "execution_count": 6,
   "metadata": {},
   "outputs": [
    {
     "name": "stdout",
     "output_type": "stream",
     "text": [
      "Discrete(4)\n",
      "Discrete(25)\n"
     ]
    },
    {
     "ename": "SystemExit",
     "evalue": "0",
     "output_type": "error",
     "traceback": [
      "An exception has occurred, use %tb to see the full traceback.\n",
      "\u001b[1;31mSystemExit\u001b[0m\u001b[1;31m:\u001b[0m 0\n"
     ]
    }
   ],
   "source": [
    "import math\n",
    "import gym\n",
    "from gym import spaces\n",
    "from gym.utils import seeding\n",
    "import numpy as np\n",
    "\n",
    "class Grid(object):\n",
    "    def __init__(self, x:int = None,\n",
    "                       y:int = None,\n",
    "                       type:int = 0,\n",
    "                       reward:float = 0.0):\n",
    "        self.x = x                          # 坐标x\n",
    "        self.y = y\n",
    "        self.type = type                    # 类别值（0：空；1：障碍或边界）\n",
    "        self.reward = reward                # 该格子的即时奖励\n",
    "        self.name = None                    # 该格子的名称\n",
    "        self._update_name()\n",
    "\n",
    "    def _update_name(self):\n",
    "        self.name = \"X{0}-Y{1}\".format(self.x, self.y)\n",
    "\n",
    "    def __str__(self):\n",
    "        return \"name:{4}, x:{0}, y:{1}, type:{2}\".format(self.x,\n",
    "                                                                    self.y,\n",
    "                                                                    self.type,\n",
    "                                                                    self.name\n",
    "                                                                    )\n",
    "\n",
    "class GridMatrix(object):\n",
    "    def __init__(self, n_width:int,                 # 水平方向格子数\n",
    "                       n_height:int,                # 竖直方向格子数\n",
    "                       default_type:int = 0,        # 默认类型\n",
    "                       default_reward:float = 0.0,  # 默认即时奖励值\n",
    "                       ):\n",
    "        self.grids = None\n",
    "        self.n_height = n_height\n",
    "        self.n_width = n_width\n",
    "        self.len = n_width * n_height\n",
    "        self.default_reward = default_reward\n",
    "        self.default_type = default_type\n",
    "        self.reset()\n",
    "\n",
    "    def reset(self):\n",
    "        self.grids = []\n",
    "        for x in range(self.n_height):\n",
    "            for y in range(self.n_width):\n",
    "                self.grids.append(Grid(x,\n",
    "                                       y,\n",
    "                                       self.default_type,\n",
    "                                       self.default_reward))\n",
    "\n",
    "    def get_grid(self, x, y=None):\n",
    "        '''获取一个格子信息\n",
    "        args:坐标信息，由x，y表示或仅有一个类型为tuple的x表示\n",
    "        return:grid object\n",
    "        '''\n",
    "        xx, yy = None, None\n",
    "        if isinstance(x, int):\n",
    "            xx, yy = x, y\n",
    "        elif isinstance(x, tuple):\n",
    "            xx, yy = x[0], x[1]\n",
    "        assert(xx >= 0 and yy >= 0 and xx < self.n_width and yy < self.n_height), \"任意坐标值应在合理区间\"\n",
    "        index = yy * self.n_width + xx\n",
    "        return self.grids[index]\n",
    "\n",
    "    def set_reward(self, x, y, reward):\n",
    "        grid = self.get_grid(x, y)\n",
    "        if grid is not None:\n",
    "            grid.reward = reward\n",
    "        else:\n",
    "            raise(\"grid doesn't exist\")\n",
    "\n",
    "    def set_type(self, x, y, type):\n",
    "        grid = self.get_grid(x, y)\n",
    "        if grid is not None:\n",
    "            grid.type = type\n",
    "        else:\n",
    "            raise(\"grid doesn't exist\")\n",
    "\n",
    "    def get_reward(self, x, y):\n",
    "        grid = self.get_grid(x, y)\n",
    "        if grid is None:\n",
    "            return None\n",
    "        return grid.reward\n",
    "\n",
    "\n",
    "    def get_type(self, x, y):\n",
    "        grid = self.get_grid(x, y)\n",
    "        if grid is None:\n",
    "            return None\n",
    "        return grid.type\n",
    "\n",
    "\n",
    "class GridWorldEnv(gym.Env):\n",
    "\n",
    "    metadata = {\n",
    "        'render.modes': ['human', 'rgb_array'],\n",
    "        'video.frames_per_second': 30\n",
    "    }\n",
    "\n",
    "    def __init__(self, n_width: int=5,\n",
    "                       n_height: int = 5,\n",
    "                       u_size=40,\n",
    "                       default_reward: float = 0,\n",
    "                       default_type=0):\n",
    "        self.u_size = u_size                        # 当前格子绘制尺寸\n",
    "        self.n_width = n_width                      # 格子世界宽度（以格子数计）\n",
    "        self.n_height = n_height                    # 高度\n",
    "        self.width = u_size * n_width               # 场景宽度 screen width\n",
    "        self.height = u_size * n_height             # 场景高度\n",
    "        self.default_reward = default_reward\n",
    "        self.default_type = default_type\n",
    "\n",
    "        self.grids = GridMatrix(n_width=self.n_width,\n",
    "                                n_height=self.n_height,\n",
    "                                default_reward=self.default_reward,\n",
    "                                default_type=self.default_type)\n",
    "        self.reward = 0                             # for rendering\n",
    "        self.action = None                          # for rendering\n",
    "\n",
    "        # 0,1,2,3 represent left, right, up, down\n",
    "        self.action_space = spaces.Discrete(4)\n",
    "        # 观察空间由low和high决定\n",
    "        self.observation_space = spaces.Discrete(self.n_height * self.n_width)\n",
    "\n",
    "        self.ends = [(0, 0), (4, 3)]  # 终止格子坐标，可以有多个\n",
    "        self.start = (0, 4)  # 起始格子坐标，只有一个\n",
    "        self.types = [(2, 2, 1)]\n",
    "        self.rewards = [(0, 0, 1), (4, 3, 5), (2, 2, -10)]\n",
    "        self.refresh_setting()\n",
    "        self.viewer = None  # 图形接口对象\n",
    "        self.seed()  # 产生一个随机子\n",
    "        self.reset()\n",
    "\n",
    "    def seed(self, seed=None):\n",
    "        # 产生一个随机化时需要的种子，同时返回一个np_random对象，支持后续的随机化生成操作\n",
    "        self.np_random, seed = seeding.np_random(seed)\n",
    "        return [seed]\n",
    "\n",
    "    def step(self, action):\n",
    "        assert self.action_space.contains(action), \"%r (%s) invalid\" % (action, type(action))\n",
    "        self.action = action                        # action for rendering\n",
    "        old_x, old_y = self._state_to_xy(self.state)\n",
    "        new_x, new_y = old_x, old_y\n",
    "\n",
    "        if action == 0: new_x -= 1  # left\n",
    "        elif action == 1: new_x += 1  # right\n",
    "        elif action == 2: new_y += 1  # up\n",
    "        elif action == 3: new_y -= 1  # down\n",
    "        elif action == 4: new_x, new_y = new_x - 1, new_y - 1\n",
    "        elif action == 5: new_x, new_y = new_x + 1, new_y - 1\n",
    "        elif action == 6: new_x, new_y = new_x + 1, new_y - 1\n",
    "        elif action == 7: new_x, new_y = new_x + 1, new_y + 1\n",
    "        # boundary effect\n",
    "        if new_x < 0: new_x = 0\n",
    "        if new_x >= self.n_width: new_x = self.n_width - 1\n",
    "        if new_y < 0: new_y = 0\n",
    "        if new_y >= self.n_height: new_y = self.n_height - 1\n",
    "\n",
    "        # wall effect:\n",
    "        # 类型为1的格子为障碍格子，不可进入\n",
    "        if self.grids.get_type(new_x, new_y) == 1:\n",
    "            new_x, new_y = old_x, old_y\n",
    "\n",
    "        self.reward = self.grids.get_reward(new_x, new_y)\n",
    "        done = self._is_end_state(new_x, new_y)\n",
    "        self.state = self._xy_to_state(new_x, new_y)\n",
    "        # 提供格子世界所有的信息在info内\n",
    "        info = {\"x\": new_x, \"y\": new_y, \"grids\": self.grids}\n",
    "        return self.state, self.reward, done, info\n",
    "\n",
    "    # 将状态变为横纵坐标\n",
    "    def _state_to_xy(self, s):\n",
    "        x = s % self.n_width\n",
    "        y = int((s - x) / self.n_width)\n",
    "        return x, y\n",
    "\n",
    "    def _xy_to_state(self, x, y=None):\n",
    "        if isinstance(x, int):\n",
    "            assert (isinstance(y, int)), \"incomplete Position info\"\n",
    "            return x + self.n_width * y\n",
    "        elif isinstance(x, tuple):\n",
    "            return x[0] + self.n_width * x[1]\n",
    "        return -1  # 未知状态\n",
    "\n",
    "    def refresh_setting(self):\n",
    "        '''用户在使用该类创建格子世界后可能会修改格子世界某些格子类型或奖励值\n",
    "        的设置，修改设置后通过调用该方法使得设置生效。\n",
    "        '''\n",
    "        for x, y, r in self.rewards:\n",
    "            self.grids.set_reward(x, y, r)\n",
    "        for x, y, t in self.types:\n",
    "            self.grids.set_type(x, y, t)\n",
    "\n",
    "    def reset(self):\n",
    "        self.state = self._xy_to_state(self.start)\n",
    "        return self.state\n",
    "\n",
    "    # 判断是否是终止状态\n",
    "    def _is_end_state(self, x, y=None):\n",
    "        if y is not None:\n",
    "            xx, yy = x, y\n",
    "        elif isinstance(x, int):\n",
    "            xx, yy = self._state_to_xy(x)\n",
    "        else:\n",
    "            assert (isinstance(x, tuple)), \"坐标数据不完整\"\n",
    "            xx, yy = x[0], x[1]\n",
    "        for end in self.ends:\n",
    "            if xx == end[0] and yy == end[1]:\n",
    "                return True\n",
    "        return False\n",
    "\n",
    "    # 图形化界面\n",
    "    def render(self, mode='human', close=False):\n",
    "        if close:\n",
    "            if self.viewer is not None:\n",
    "                self.viewer.close()\n",
    "                self.viewer = None\n",
    "            return\n",
    "        zero = (0, 0)\n",
    "        u_size = self.u_size\n",
    "        m = 2                                       # 格子之间的间隙尺寸\n",
    "\n",
    "        # 如果还没有设定屏幕对象，则初始化整个屏幕具备的元素。\n",
    "        if self.viewer is None:\n",
    "            from gym.envs.classic_control import rendering\n",
    "            self.viewer = rendering.Viewer(self.width, self.height)\n",
    "\n",
    "            # 绘制格子\n",
    "            for x in range(self.n_width):\n",
    "                for y in range(self.n_height):\n",
    "                    v = [(x * u_size + m, y * u_size + m),\n",
    "                         ((x + 1) * u_size - m, y * u_size + m),\n",
    "                         ((x + 1) * u_size - m, (y + 1) * u_size - m),\n",
    "                         (x * u_size + m, (y + 1) * u_size - m)]\n",
    "\n",
    "                    rect = rendering.FilledPolygon(v)\n",
    "                    r = self.grids.get_reward(x, y) / 10\n",
    "                    if r < 0:\n",
    "                        rect.set_color(0.9 - r, 0.9 + r, 0.9 + r)\n",
    "                    elif r > 0:\n",
    "                        rect.set_color(0.3, 0.5 + r, 0.3)\n",
    "                    else:\n",
    "                        rect.set_color(0.9, 0.9, 0.9)\n",
    "                    self.viewer.add_geom(rect)\n",
    "                    # 绘制边框\n",
    "                    v_outline = [(x * u_size + m, y * u_size + m),\n",
    "                                 ((x + 1) * u_size - m, y * u_size + m),\n",
    "                                 ((x + 1) * u_size - m, (y + 1) * u_size - m),\n",
    "                                 (x * u_size + m, (y + 1) * u_size - m)]\n",
    "                    outline = rendering.make_polygon(v_outline, False)\n",
    "                    outline.set_linewidth(3)\n",
    "\n",
    "                    if self._is_end_state(x, y):\n",
    "                        # 给终点方格添加金黄色边框\n",
    "                        outline.set_color(0.9, 0.9, 0)\n",
    "                        self.viewer.add_geom(outline)\n",
    "                    if self.start[0] == x and self.start[1] == y:\n",
    "                        outline.set_color(0.5, 0.5, 0.8)\n",
    "                        self.viewer.add_geom(outline)\n",
    "                    if self.grids.get_type(x, y) == 1:  # 障碍格子用深灰色表示\n",
    "                        rect.set_color(0.3, 0.3, 0.3)\n",
    "                    else:\n",
    "                        pass\n",
    "            # 绘制个体\n",
    "            self.agent = rendering.make_circle(u_size / 4, 30, True)\n",
    "            self.agent.set_color(1.0, 1.0, 0.0)\n",
    "            self.viewer.add_geom(self.agent)\n",
    "            self.agent_trans = rendering.Transform()\n",
    "            self.agent.add_attr(self.agent_trans)\n",
    "\n",
    "            # 更新个体位置\n",
    "        x, y = self._state_to_xy(self.state)\n",
    "        self.agent_trans.set_translation((x + 0.5) * u_size, (y + 0.5) * u_size)\n",
    "\n",
    "        return self.viewer.render(return_rgb_array= mode == 'rgb_array')\n",
    "\n",
    "if __name__ == \"__main__\":\n",
    "    env = GridWorldEnv()\n",
    "    # 格子世界环境类默认使用0表示左，1：右，2：上，3:下\n",
    "    env.refresh_setting()\n",
    "    env.reset()\n",
    "    \n",
    "    env.render()\n",
    "    print(env.action_space)\n",
    "    print(env.observation_space)\n",
    "    #input(\"press any key to continue...\")\n",
    "    env.close()\n",
    "    sys.exit(0)\n",
    "    quit()"
   ]
  },
  {
   "cell_type": "code",
   "execution_count": 5,
   "metadata": {},
   "outputs": [],
   "source": [
    "import numpy as np\n",
    "import sys\n",
    "from six import StringIO, b\n",
    "\n",
    "from gym import utils\n",
    "from gym.envs.toy_text import discrete"
   ]
  },
  {
   "cell_type": "code",
   "execution_count": 6,
   "metadata": {},
   "outputs": [],
   "source": [
    "# 对应所有状态都有四个动作\n",
    "UP = 0\n",
    "RIGNT = 1\n",
    "DOWN = 2\n",
    "LEFT = 3\n",
    "\n",
    "# HelloGrid环境\n",
    "MAPS = {'4X4':[\"SOOD\",\"OXOX\",\"OOOX\",\"XOOG\"]}"
   ]
  },
  {
   "cell_type": "code",
   "execution_count": 9,
   "metadata": {},
   "outputs": [
    {
     "name": "stdout",
     "output_type": "stream",
     "text": [
      "{'4X4': ['SOOD', 'OXOX', 'OOOX', 'XOOG']}\n"
     ]
    }
   ],
   "source": [
    "print(MAPS)"
   ]
  },
  {
   "cell_type": "code",
   "execution_count": null,
   "metadata": {},
   "outputs": [],
   "source": []
  }
 ],
 "metadata": {
  "kernelspec": {
   "display_name": "Python 3",
   "language": "python",
   "name": "python3"
  },
  "language_info": {
   "codemirror_mode": {
    "name": "ipython",
    "version": 3
   },
   "file_extension": ".py",
   "mimetype": "text/x-python",
   "name": "python",
   "nbconvert_exporter": "python",
   "pygments_lexer": "ipython3",
   "version": "3.7.10"
  }
 },
 "nbformat": 4,
 "nbformat_minor": 4
}
